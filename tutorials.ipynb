{
 "cells": [
  {
   "cell_type": "code",
   "execution_count": 1,
   "metadata": {},
   "outputs": [
    {
     "name": "stderr",
     "output_type": "stream",
     "text": [
      "/tmp/ipykernel_1006305/740073282.py:1: DeprecationWarning: the imp module is deprecated in favour of importlib; see the module's documentation for alternative uses\n",
      "  import imp\n"
     ]
    }
   ],
   "source": [
    "import imp\n",
    "import utils.compare as uc\n",
    "import utils.statistics as us\n",
    "import json\n",
    "train_prefix = '/mnt/intel/artifact_management/plusai_2d_dataset/revised/front/train/images/'\n",
    "test_prefix = '/mnt/intel/artifact_management/plusai_2d_dataset/revised/front/benchmark/images/'\n",
    "\n",
    "label_path = '/mnt/intel/jupyterhub/hong.zhong/data/plus/kpdet_train_v1.16_20221227.json'\n",
    "with open(label_path, 'r') as f:\n",
    "    gt_data = json.load(f)\n",
    "\n",
    "label_path = '/mnt/intel/jupyterhub/hong.zhong/data/plus/kpdet_eval_v1.16.json'\n",
    "with open(label_path, 'r') as f:\n",
    "    gt_test_data = json.load(f)\n",
    "\n",
    "label_path = '/mnt/intel/jupyterhub/hong.zhong/data/plus/noise_mine/dataset_inference_all_boxes.json'\n",
    "with open(label_path, 'r') as f:\n",
    "    pred_data = json.load(f)\n",
    "\n",
    "label_path = '/mnt/intel/jupyterhub/hong.zhong/data/plus/noise_mine/val_dataset_inference_all_boxes.json'\n",
    "with open(label_path, 'r') as f:\n",
    "    pred_test_data = json.load(f)"
   ]
  },
  {
   "cell_type": "code",
   "execution_count": 2,
   "metadata": {},
   "outputs": [
    {
     "data": {
      "text/plain": [
       "(345374, 118063, 345374, 93594)"
      ]
     },
     "execution_count": 2,
     "metadata": {},
     "output_type": "execute_result"
    }
   ],
   "source": [
    "len(gt_data['labeling']),len(gt_test_data['labeling']),len(pred_data), len(pred_test_data)"
   ]
  },
  {
   "attachments": {},
   "cell_type": "markdown",
   "metadata": {},
   "source": [
    "### How to detect the noisy samples"
   ]
  },
  {
   "cell_type": "code",
   "execution_count": 57,
   "metadata": {},
   "outputs": [],
   "source": [
    "imp.reload(uc)\n",
    "sw = 20\n",
    "sh = 20\n",
    "mw = 180\n",
    "mh = 180\n",
    "thres_con = 0.7\n",
    "thres_iou = 0.4\n",
    "\n",
    "args = [sw, sh, mw, mh, thres_con, thres_iou]\n",
    "\n",
    "noise_label_info, count = uc.compare_vehicles(pred_data, gt_data, args)\n",
    "noise_label_info_moto, count_moto = uc.compare_moto_vehicles(pred_data, gt_data, args)\n",
    "\n",
    "noise_label_info_test, count_test = uc.compare_vehicles(pred_test_data, gt_test_data, args)\n",
    "noise_label_info_moto_test, count_moto_test = uc.compare_moto_vehicles(pred_test_data, gt_test_data, args)"
   ]
  },
  {
   "cell_type": "code",
   "execution_count": 66,
   "metadata": {},
   "outputs": [
    {
     "data": {
      "text/plain": [
       "3567"
      ]
     },
     "execution_count": 66,
     "metadata": {},
     "output_type": "execute_result"
    }
   ],
   "source": [
    "count"
   ]
  },
  {
   "cell_type": "code",
   "execution_count": 111,
   "metadata": {},
   "outputs": [
    {
     "data": {
      "text/plain": [
       "(0, 833, 98, 2815)"
      ]
     },
     "execution_count": 111,
     "metadata": {},
     "output_type": "execute_result"
    }
   ],
   "source": [
    "ms = 0\n",
    "for pic_num in noise_label_info:\n",
    "    ms += noise_label_info[pic_num]['problems'].count('ThreeBody')\n",
    "fp, fn, lab = us.classify(noise_label_info)\n",
    "ms, fp, fn, lab"
   ]
  },
  {
   "cell_type": "code",
   "execution_count": 17,
   "metadata": {},
   "outputs": [
    {
     "data": {
      "text/plain": [
       "Text(0.5, 1.0, 'Vehicles noisy samples in trainset')"
      ]
     },
     "execution_count": 17,
     "metadata": {},
     "output_type": "execute_result"
    },
    {
     "data": {
      "image/png": "[encoded data removed]",
      "text/plain": [
       "<Figure size 640x480 with 1 Axes>"
      ]
     },
     "metadata": {},
     "output_type": "display_data"
    }
   ],
   "source": [
    "import matplotlib.pyplot as plt\n",
    "plt.bar(range(3), [fp, fn, lab], tick_label = ['FP', 'FN', 'Label'])\n",
    "plt.title('Vehicles noisy samples in trainset')"
   ]
  },
  {
   "cell_type": "code",
   "execution_count": 22,
   "metadata": {},
   "outputs": [
    {
     "data": {
      "text/plain": [
       "(166, 113, 20, 672)"
      ]
     },
     "execution_count": 22,
     "metadata": {},
     "output_type": "execute_result"
    }
   ],
   "source": [
    "ms = 0\n",
    "for pic_num in noise_label_info_moto_test:\n",
    "    ms += noise_label_info_moto_test[pic_num]['problems'].count('ThreeBody')\n",
    "fp, fn, lab = us.classify(noise_label_info_moto_test)\n",
    "ms, fp, fn, lab"
   ]
  },
  {
   "attachments": {},
   "cell_type": "markdown",
   "metadata": {},
   "source": [
    "### To detect the main problems in ThreeBody problems"
   ]
  },
  {
   "cell_type": "code",
   "execution_count": 65,
   "metadata": {},
   "outputs": [
    {
     "data": {
      "text/plain": [
       "68"
      ]
     },
     "execution_count": 65,
     "metadata": {},
     "output_type": "execute_result"
    }
   ],
   "source": [
    "import utils.showimg as ushow\n",
    "from utils.label_mapping import NAME_ABBRE, LABEL_MAPPING\n",
    "tt = 0\n",
    "# target_threebody = []\n",
    "# for pic_num in noise_label_info_moto:\n",
    "#     problems = noise_label_info_moto[pic_num]['problems']\n",
    "#     if 'ThreeBody' in problems:\n",
    "#         target_threebody.append(pic_num)\n",
    "\n",
    "# for pic_num in target_threebody:\n",
    "#     gt_img = gt_data['labeling'][int(pic_num)]\n",
    "#     for idx, anno in enumerate(gt_img[\"annotations\"]):\n",
    "#         xg, yg, wg, hg = anno['x'], anno['y'], anno['width'], anno['height'] #read the gt_box location\n",
    "#         if 'hasRider' in anno.keys() and anno['hasRider'] == True and LABEL_MAPPING[anno['class']] in uc.moto_class and wg > sw and hg > sh:\n",
    "#             for idx_oth, anno_oth in enumerate(gt_img['annotations']):\n",
    "#                 if idx_oth == idx: continue;\n",
    "#                 lxo, lyo, wo, ho = anno_oth['x'], anno_oth['y'], anno_oth['width'], anno_oth['height']\n",
    "#                 cxo, cyo = lxo + wo / 2, lyo + ho / 2\n",
    "#                 if xg <= cxo <= xg + wg + 10 and yg <= cyo <= yg + hg + 10:\n",
    "#                     if (anno_oth['class'] in LABEL_MAPPING) and (NAME_ABBRE[anno_oth['class']] == 'car'):\n",
    "#                         tt += 1\n",
    "#                         ushow.generate_compare_images(pic_num, noise_label_info_moto, gt_data, pred_data, './checked_noise/threebody/train', train_prefix)\n",
    "target_threebody = []\n",
    "for pic_num in noise_label_info_moto_test:\n",
    "    problems = noise_label_info_moto_test[pic_num]['problems']\n",
    "    if 'ThreeBody' in problems:\n",
    "        target_threebody.append(pic_num)\n",
    "\n",
    "for pic_num in target_threebody:\n",
    "    gt_img = gt_test_data['labeling'][int(pic_num)]\n",
    "    for idx, anno in enumerate(gt_img[\"annotations\"]):\n",
    "        xg, yg, wg, hg = anno['x'], anno['y'], anno['width'], anno['height'] #read the gt_box location\n",
    "        if 'hasRider' in anno.keys() and anno['hasRider'] == True and LABEL_MAPPING[anno['class']] in uc.moto_class and wg > sw and hg > sh:\n",
    "            for idx_oth, anno_oth in enumerate(gt_img['annotations']):\n",
    "                if idx_oth == idx: continue;\n",
    "                lxo, lyo, wo, ho = anno_oth['x'], anno_oth['y'], anno_oth['width'], anno_oth['height']\n",
    "                cxo, cyo = lxo + wo / 2, lyo + ho / 2\n",
    "                if xg <= cxo <= xg + wg and yg <= cyo <= yg + hg:\n",
    "                    if (anno_oth['class'] in LABEL_MAPPING) and (NAME_ABBRE[anno_oth['class']] == 'car'):\n",
    "                        tt += 1\n",
    "                        ushow.generate_compare_images(pic_num, noise_label_info_moto_test, gt_test_data, pred_test_data, './checked_noise/threebody/test', test_prefix)\n",
    "tt"
   ]
  },
  {
   "attachments": {},
   "cell_type": "markdown",
   "metadata": {},
   "source": [
    "### Height // Width to filter the true people's bbox:"
   ]
  },
  {
   "cell_type": "code",
   "execution_count": 106,
   "metadata": {},
   "outputs": [
    {
     "data": {
      "text/plain": [
       "64"
      ]
     },
     "execution_count": 106,
     "metadata": {},
     "output_type": "execute_result"
    }
   ],
   "source": [
    "tt = 0\n",
    "small_thres = 1.8\n",
    "big_thres = 2.5\n",
    "# for pic_num in noise_label_info_test:\n",
    "#     problems = noise_label_info_test[pic_num]['problems']\n",
    "#     for pblm in problems:\n",
    "#         if 'ped' == pblm[-3:]:\n",
    "#             index = problems.index(pblm)\n",
    "#             invalid_index = noise_label_info_test[pic_num]['invalid_box_index'][index]\n",
    "#             target_box = noise_label_info_test[pic_num]['bboxes_unnormalized'][invalid_index]\n",
    "#             x, y, w, h = target_box\n",
    "#             # print(pic_num, h / w)\n",
    "#             # break\n",
    "#             if small_thres <= h / w  and h / w <= big_thres:\n",
    "#                 tt += 1\n",
    "#                 ushow.generate_compare_images(pic_num, noise_label_info_test, gt_test_data, pred_test_data, './checked_noise/mislabeled_ped/test', test_prefix)\n",
    "#                 break\n",
    "for pic_num in noise_label_info:\n",
    "    problems = noise_label_info[pic_num]['problems']\n",
    "    for pblm in problems:\n",
    "        if 'ped' == pblm[-3:]:\n",
    "            index = problems.index(pblm)\n",
    "            invalid_index = noise_label_info[pic_num]['invalid_box_index'][index]\n",
    "            target_box = noise_label_info[pic_num]['bboxes_unnormalized'][invalid_index]\n",
    "            x, y, w, h = target_box\n",
    "            # print(pic_num, h / w)\n",
    "            # break\n",
    "            if small_thres <= h / w  and h / w <= big_thres:\n",
    "                tt += 1\n",
    "                ushow.generate_compare_images(pic_num, noise_label_info, gt_data, pred_data, './checked_noise/mislabeled_ped/threshold', train_prefix)\n",
    "                break\n",
    "tt"
   ]
  },
  {
   "cell_type": "code",
   "execution_count": 83,
   "metadata": {},
   "outputs": [
    {
     "data": {
      "text/plain": [
       "2.3646297418153317"
      ]
     },
     "execution_count": 83,
     "metadata": {},
     "output_type": "execute_result"
    }
   ],
   "source": [
    "#To Calculate the statical number of height // width of all potential ped bbox in the dataset\n",
    "ratio = 0\n",
    "num = 0\n",
    "for gt_img in gt_data['labeling']:\n",
    "    for anno in gt_img['annotations']:\n",
    "        if anno['class'] in LABEL_MAPPING and NAME_ABBRE[anno['class']] == 'ped':\n",
    "            ratio += anno['height'] / anno['width']\n",
    "            num += 1\n",
    "ratio / num"
   ]
  },
  {
   "attachments": {},
   "cell_type": "markdown",
   "metadata": {},
   "source": [
    "### Read the FN problems in train and test dataset"
   ]
  },
  {
   "cell_type": "code",
   "execution_count": 129,
   "metadata": {},
   "outputs": [
    {
     "data": {
      "text/plain": [
       "23"
      ]
     },
     "execution_count": 129,
     "metadata": {},
     "output_type": "execute_result"
    }
   ],
   "source": [
    "tt = 0\n",
    "for pic_num in noise_label_info_test:\n",
    "    problems = noise_label_info_test[pic_num]['problems']\n",
    "    if 'FN' in problems:\n",
    "        ushow.generate_compare_images(pic_num, noise_label_info_test, gt_test_data, pred_test_data, './checked_noise/transporters/test', test_prefix)\n",
    "        tt += 1\n",
    "        # gt_img = gt_data['labeling'][int(pic_num)]\n",
    "        # for anno in gt_img['annotations']:\n",
    "        #     #if [anno['x'], anno['y'], anno['width'], anno['height']] == target_box:\n",
    "        #     if 'transporter' in anno.keys() and anno['transporter'] == True:\n",
    "        #         ushow.generate_compare_images(pic_num, noise_label_info, gt_data, pred_data, './checked_noise/transporters/train', train_prefix)\n",
    "        #         tt += 1\n",
    "        #         break\n",
    "tt"
   ]
  },
  {
   "cell_type": "code",
   "execution_count": 130,
   "metadata": {},
   "outputs": [
    {
     "data": {
      "text/plain": [
       "(509, 23, 192)"
      ]
     },
     "execution_count": 130,
     "metadata": {},
     "output_type": "execute_result"
    }
   ],
   "source": [
    "us.classify(noise_label_info_test)"
   ]
  },
  {
   "cell_type": "code",
   "execution_count": 134,
   "metadata": {},
   "outputs": [],
   "source": [
    "for pic_num in noise_label_info_test:\n",
    "    problems = noise_label_info_test[pic_num]['problems']\n",
    "    if 'FP' in problems and problems.count('FP') >= 2:\n",
    "        ushow.generate_compare_images(pic_num, noise_label_info_test, gt_test_data, pred_test_data, './checked_noise/random_generated/test', test_prefix)\n",
    "        tt += 1"
   ]
  },
  {
   "attachments": {},
   "cell_type": "markdown",
   "metadata": {},
   "source": [
    "### Generate all noisy samples pics"
   ]
  },
  {
   "cell_type": "code",
   "execution_count": 136,
   "metadata": {},
   "outputs": [],
   "source": [
    "for pic_num in noise_label_info_test:\n",
    "    ushow.generate_compare_images(pic_num, noise_label_info_test, gt_test_data, pred_test_data, './checked_noise/overall/test', test_prefix)\n",
    "for pic_num in noise_label_info:\n",
    "    ushow.generate_compare_images(pic_num, noise_label_info, gt_data, pred_data, './checked_noise/overall/train', train_prefix)"
   ]
  }
 ],
 "metadata": {
  "kernelspec": {
   "display_name": "base",
   "language": "python",
   "name": "python3"
  },
  "language_info": {
   "codemirror_mode": {
    "name": "ipython",
    "version": 3
   },
   "file_extension": ".py",
   "mimetype": "text/x-python",
   "name": "python",
   "nbconvert_exporter": "python",
   "pygments_lexer": "ipython3",
   "version": "3.9.15"
  },
  "orig_nbformat": 4
 },
 "nbformat": 4,
 "nbformat_minor": 2
}
